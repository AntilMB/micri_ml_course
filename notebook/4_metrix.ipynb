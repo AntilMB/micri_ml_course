{
 "cells": [
  {
   "cell_type": "markdown",
   "metadata": {},
   "source": [
    "Оригинал https://habr.com/ru/company/ods/blog/328372/"
   ]
  },
  {
   "cell_type": "markdown",
   "metadata": {},
   "source": [
    "В задачах машинного обучения для оценки качества моделей и сравнения различных алгоритмов используются метрики, а их выбор и анализ — непременная часть работы датасатаниста.\n",
    "\n",
    "\n",
    "В этой статье мы рассмотрим некоторые критерии качества в задачах классификации, обсудим, что является важным при выборе метрики и что может пойти не так.\n",
    "<img src=\"../images/b33683d495964ebb9ca8d413e60c4085.jpg\">\n",
    "\n",
    "# Метрики в задачах классификации\n",
    "\n",
    "Для демонстрации полезных функций sklearn и наглядного представления метрик мы будем использовать датасет по оттоку клиентов телеком-оператора.\n"
   ]
  },
  {
   "cell_type": "code",
   "execution_count": 17,
   "metadata": {
    "ExecuteTime": {
     "end_time": "2019-04-11T07:46:10.373250Z",
     "start_time": "2019-04-11T07:46:10.357110Z"
    }
   },
   "outputs": [],
   "source": [
    "import pandas as pd\n",
    "import numpy as np\n",
    "import itertools\n",
    "import matplotlib.pyplot as plt\n",
    "from matplotlib.pylab import rc, plot\n",
    "import seaborn as sns\n",
    "from sklearn.preprocessing import LabelEncoder, OneHotEncoder\n",
    "from sklearn.model_selection import cross_val_score\n",
    "from sklearn.linear_model import LogisticRegression\n",
    "from sklearn.ensemble import RandomForestClassifier, GradientBoostingClassifier\n",
    "from sklearn.metrics import precision_recall_curve, classification_report, confusion_matrix, roc_curve\n",
    "from sklearn.model_selection import train_test_split\n",
    "\n",
    "df = pd.read_csv('../data/telecom_churn.csv')\n",
    "df.drop('Phone number', axis=1, inplace=True)"
   ]
  },
  {
   "cell_type": "code",
   "execution_count": 13,
   "metadata": {
    "ExecuteTime": {
     "end_time": "2019-04-11T07:35:36.888744Z",
     "start_time": "2019-04-11T07:35:36.873100Z"
    }
   },
   "outputs": [],
   "source": [
    "# Сделаем маппинг бинарных колонок \n",
    "# и закодируем dummy-кодированием штат (для простоты, лучше не делать так для деревянных моделей)\n",
    "\n",
    "d = {'yes' : 1, 'no' : 0}\n",
    "\n",
    "df['International plan'] = df['International plan'].map(d)\n",
    "df['Voice mail plan'] = df['Voice mail plan'].map(d)\n",
    "df['Churn'] = df['Churn'].astype('int64')\n",
    "\n",
    "le = LabelEncoder()\n",
    "df['State'] = le.fit_transform(df['State'])\n",
    "\n",
    "ohe = OneHotEncoder(sparse=False)\n",
    "\n",
    "encoded_state = ohe.fit_transform(df['State'].values.reshape(-1, 1))\n",
    "tmp = pd.DataFrame(encoded_state,  \n",
    "                   columns=['state ' + str(i) for i in range(encoded_state.shape[1])])\n",
    "df = pd.concat([df, tmp], axis=1)"
   ]
  },
  {
   "cell_type": "markdown",
   "metadata": {},
   "source": [
    "# Accuracy, precision и recall\n",
    "\n",
    "Перед переходом к самим метрикам необходимо ввести важную концепцию для описания этих метрик в терминах ошибок классификации — confusion matrix (матрица ошибок).\n",
    "Допустим, что у нас есть два класса и алгоритм, предсказывающий принадлежность каждого объекта одному из классов, тогда матрица ошибок классификации будет выглядеть следующим образом:\n",
    "\n",
    "<img src=\"../images/Screenshot_from_2019-04-11_10-07-28.png\">\n",
    "\n",
    "Здесь  $\\hat y$ — это ответ алгоритма на объекте, а  $y$ — истинная метка класса на этом объекте.\n",
    "Таким образом, ошибки классификации бывают двух видов: False Negative (FN) и False Positive (FP)."
   ]
  },
  {
   "cell_type": "code",
   "execution_count": 14,
   "metadata": {
    "ExecuteTime": {
     "end_time": "2019-04-11T07:35:37.659694Z",
     "start_time": "2019-04-11T07:35:37.393347Z"
    }
   },
   "outputs": [
    {
     "name": "stdout",
     "output_type": "stream",
     "text": [
      "Confusion matrix, without normalization\n",
      "[[914  27]\n",
      " [118  41]]\n"
     ]
    },
    {
     "data": {
      "image/png": "[encoded data removed]",
      "text/plain": [
       "<Figure size 720x576 with 2 Axes>"
      ]
     },
     "metadata": {
      "needs_background": "light"
     },
     "output_type": "display_data"
    }
   ],
   "source": [
    "X = df.drop('Churn', axis=1)\n",
    "y = df['Churn']\n",
    "\n",
    "# Делим выборку на train и test, все метрики будем оценивать на тестовом датасете\n",
    "\n",
    "X_train, X_test, y_train, y_test = train_test_split(X, y, stratify=y,  test_size=0.33, random_state=42)\n",
    "\n",
    "# Обучаем ставшую родной логистическую регрессию\n",
    "\n",
    "lr = LogisticRegression(random_state=42)\n",
    "lr.fit(X_train, y_train)\n",
    "\n",
    "# Воспользуемся функцией построения матрицы ошибок из документации sklearn\n",
    "\n",
    "def plot_confusion_matrix(cm, classes,\n",
    "                          normalize=False,\n",
    "                          title='Confusion matrix',\n",
    "                          cmap=plt.cm.Blues):\n",
    "    \"\"\"\n",
    "    This function prints and plots the confusion matrix.\n",
    "    Normalization can be applied by setting `normalize=True`.\n",
    "    \"\"\"\n",
    "    plt.imshow(cm, interpolation='nearest', cmap=cmap)\n",
    "    plt.title(title)\n",
    "    plt.colorbar()\n",
    "    tick_marks = np.arange(len(classes))\n",
    "    plt.xticks(tick_marks, classes, rotation=45)\n",
    "    plt.yticks(tick_marks, classes)\n",
    "\n",
    "    if normalize:\n",
    "        cm = cm.astype('float') / cm.sum(axis=1)[:, np.newaxis]\n",
    "        print(\"Normalized confusion matrix\")\n",
    "    else:\n",
    "        print('Confusion matrix, without normalization')\n",
    "\n",
    "    print(cm)\n",
    "\n",
    "    thresh = cm.max() / 2.\n",
    "    for i, j in itertools.product(range(cm.shape[0]), range(cm.shape[1])):\n",
    "        plt.text(j, i, cm[i, j],\n",
    "                 horizontalalignment=\"center\",\n",
    "                 color=\"white\" if cm[i, j] > thresh else \"black\")\n",
    "\n",
    "    plt.tight_layout()\n",
    "    plt.ylabel('True label')\n",
    "    plt.xlabel('Predicted label')\n",
    "\n",
    "font = {'size' : 15}\n",
    "\n",
    "plt.rc('font', **font)\n",
    "\n",
    "cnf_matrix = confusion_matrix(y_test, lr.predict(X_test))\n",
    "plt.figure(figsize=(10, 8))\n",
    "plot_confusion_matrix(cnf_matrix, classes=['Non-churned', 'Churned'],\n",
    "                      title='Confusion matrix')\n",
    "# plt.savefig(\"conf_matrix.png\")\n",
    "plt.show()"
   ]
  },
  {
   "cell_type": "markdown",
   "metadata": {},
   "source": [
    "# Accuracy\n",
    "\n",
    "Интуитивно понятной, очевидной и почти неиспользуемой метрикой является accuracy — доля правильных ответов алгоритма:\n",
    "\n",
    "$$\\large accuracy = \\frac{TP + TN}{TP + TN + FP + FN}$$\n",
    "\n",
    "Эта метрика бесполезна в задачах с неравными классами, и это легко показать на примере.\n",
    "\n",
    "\n",
    "Допустим, мы хотим оценить работу спам-фильтра почты. У нас есть 100 не-спам писем, 90 из которых наш классификатор определил верно (True Negative = 90, False Positive = 10), и 10 спам-писем, 5 из которых классификатор также определил верно (True Positive = 5, False Negative = 5).\n",
    "Тогда accuracy:\n",
    "\n",
    "$$\\ accuracy = \\frac{5 + 90}{5 + 90 + 10 + 5} = 86,4%$$\n",
    "\n",
    "Однако если мы просто будем предсказывать все письма как не-спам, то получим более высокую accuracy:\n",
    "\n",
    "$$\\ accuracy = \\frac{0 + 100}{0 + 100 + 0 + 10} = 90,9%$$\n",
    "\n",
    "При этом, наша модель совершенно не обладает никакой предсказательной силой, так как изначально мы хотели определять письма со спамом. Преодолеть это нам поможет переход с общей для всех классов метрики к отдельным показателям качества классов.\n",
    "\n",
    "# Precision, recall и F-мера\n",
    "\n",
    "Для оценки качества работы алгоритма на каждом из классов по отдельности введем метрики precision (точность) и recall (полнота).\n",
    "\n",
    "$$\\large precision = \\frac{TP}{TP + FP}$$\n",
    "\n",
    "$$\\large recall = \\frac{TP}{TP + FN}$$\n",
    "\n",
    "Precision можно интерпретировать как долю объектов, названных классификатором положительными и при этом действительно являющимися положительными, а recall показывает, какую долю объектов положительного класса из всех объектов положительного класса нашел алгоритм.\n",
    "\n",
    "<img src=\"../images/38e9d4892d9241ea95e1f56e3ef9124c.png\">\n",
    "\n",
    "Именно введение precision не позволяет нам записывать все объекты в один класс, так как в этом случае мы получаем рост уровня False Positive. Recall демонстрирует способность алгоритма обнаруживать данный класс вообще, а precision — способность отличать этот класс от других классов.\n",
    "\n",
    "\n",
    "Как мы отмечали ранее, ошибки классификации бывают двух видов: False Positive и False Negative. В статистике первый вид ошибок называют ошибкой I-го рода, а второй — ошибкой II-го рода. В нашей задаче по определению оттока абонентов, ошибкой первого рода будет принятие лояльного абонента за уходящего, так как наша нулевая гипотеза состоит в том, что никто из абонентов не уходит, а мы эту гипотезу отвергаем. Соответственно, ошибкой второго рода будет являться \"пропуск\" уходящего абонента и ошибочное принятие нулевой гипотезы.\n",
    "\n",
    "\n",
    "Precision и recall не зависят, в отличие от accuracy, от соотношения классов и потому применимы в условиях несбалансированных выборок.\n",
    "Часто в реальной практике стоит задача найти оптимальный (для заказчика) баланс между этими двумя метриками. Классическим примером является задача определения оттока клиентов.\n",
    "Очевидно, что мы не можем находить всех уходящих в отток клиентов и только их. Но, определив стратегию и ресурс для удержания клиентов, мы можем подобрать нужные пороги по precision и recall. Например, можно сосредоточиться на удержании только высокодоходных клиентов или тех, кто уйдет с большей вероятностью, так как мы ограничены в ресурсах колл-центра.\n",
    "\n",
    "\n",
    "Обычно при оптимизации гиперпараметров алгоритма (например, в случае перебора по сетке GridSearchCV ) используется одна метрика, улучшение которой мы и ожидаем увидеть на тестовой выборке.\n",
    "Существует несколько различных способов объединить precision и recall в агрегированный критерий качества. F-мера (в общем случае ) — среднее гармоническое precision и recall :\n",
    "\n",
    "\n",
    "$$\\large \\ F_\\beta = (1 + \\beta^2) \\cdot \\frac{precision \\cdot recall}{(\\beta^2 \\cdot precision) + recall}$$\n",
    "\n",
    "$\\beta$ в данном случае определяет вес точности в метрике, и при $\\beta = 1$ это среднее гармоническое (с множителем 2, чтобы в случае precision = 1 и recall = 1 иметь $\\ F_1 = 1$)\n",
    "F-мера достигает максимума при полноте и точности, равными единице, и близка к нулю, если один из аргументов близок к нулю.\n",
    "В sklearn есть удобная функция _metrics.classificationreport, возвращающая recall, precision и F-меру для каждого из классов, а также количество экземпляров каждого класса.\n",
    "\n",
    "\n",
    "\n",
    "\n",
    "\n",
    "\n"
   ]
  },
  {
   "cell_type": "code",
   "execution_count": 15,
   "metadata": {
    "ExecuteTime": {
     "end_time": "2019-04-11T07:43:50.878595Z",
     "start_time": "2019-04-11T07:43:50.869833Z"
    }
   },
   "outputs": [
    {
     "name": "stdout",
     "output_type": "stream",
     "text": [
      "             precision    recall  f1-score   support\n",
      "\n",
      "Non-churned       0.89      0.97      0.93       941\n",
      "    Churned       0.60      0.26      0.36       159\n",
      "\n",
      "avg / total       0.84      0.87      0.84      1100\n",
      "\n"
     ]
    }
   ],
   "source": [
    "report = classification_report(y_test, lr.predict(X_test), target_names=['Non-churned', 'Churned'])\n",
    "print(report)"
   ]
  },
  {
   "cell_type": "markdown",
   "metadata": {},
   "source": [
    "Здесь необходимо отметить, что в случае задач с несбалансированными классами, которые превалируют в реальной практике, часто приходится прибегать к техникам искусственной модификации датасета для выравнивания соотношения классов. Их существует много, и мы не будем их касаться, здесь можно посмотреть некоторые методы и выбрать подходящий для вашей задачи.\n",
    "\n",
    "# AUC-ROC и AUC-PR\n",
    "\n",
    "При конвертации вещественного ответа алгоритма (как правило, вероятности принадлежности к классу, отдельно см. SVM) в бинарную метку, мы должны выбрать какой-либо порог, при котором 0 становится 1. Естественным и близким кажется порог, равный 0.5, но он не всегда оказывается оптимальным, например, при вышеупомянутом отсутствии баланса классов.\n",
    "\n",
    "\n",
    "Одним из способов оценить модель в целом, не привязываясь к конкретному порогу, является AUC-ROC (или ROC AUC) — площадь (Area Under Curve) под кривой ошибок (Receiver Operating Characteristic curve ). Данная кривая представляет из себя линию от (0,0) до (1,1) в координатах True Positive Rate (TPR) и False Positive Rate (FPR):\n",
    "\n",
    "\n",
    "$$\\large TPR = \\frac{TP}{TP + FN}$$\n",
    "\n",
    "$$\\large FPR = \\frac{FP}{FP + TN}$$\n",
    "\n",
    "TPR нам уже известна, это полнота, а FPR показывает, какую долю из объектов negative класса алгоритм предсказал неверно. В идеальном случае, когда классификатор не делает ошибок (FPR = 0, TPR = 1) мы получим площадь под кривой, равную единице; в противном случае, когда классификатор случайно выдает вероятности классов, AUC-ROC будет стремиться к 0.5, так как классификатор будет выдавать одинаковое количество TP и FP.\n",
    "\n",
    "Каждая точка на графике соответствует выбору некоторого порога. Площадь под кривой в данном случае показывает качество алгоритма (больше — лучше), кроме этого, важной является крутизна самой кривой — мы хотим максимизировать TPR, минимизируя FPR, а значит, наша кривая в идеале должна стремиться к точке (0,1)."
   ]
  },
  {
   "cell_type": "code",
   "execution_count": 18,
   "metadata": {
    "ExecuteTime": {
     "end_time": "2019-04-11T07:46:14.947989Z",
     "start_time": "2019-04-11T07:46:14.764527Z"
    }
   },
   "outputs": [
    {
     "data": {
      "image/png": "[encoded data removed]",
      "text/plain": [
       "<Figure size 720x576 with 1 Axes>"
      ]
     },
     "metadata": {},
     "output_type": "display_data"
    }
   ],
   "source": [
    "sns.set(font_scale=1.5)\n",
    "sns.set_color_codes(\"muted\")\n",
    "\n",
    "plt.figure(figsize=(10, 8))\n",
    "fpr, tpr, thresholds = roc_curve(y_test, lr.predict_proba(X_test)[:,1], pos_label=1)\n",
    "lw = 2\n",
    "plt.plot(fpr, tpr, lw=lw, label='ROC curve ')\n",
    "plt.plot([0, 1], [0, 1])\n",
    "plt.xlim([0.0, 1.0])\n",
    "plt.ylim([0.0, 1.05])\n",
    "plt.xlabel('False Positive Rate')\n",
    "plt.ylabel('True Positive Rate')\n",
    "plt.title('ROC curve')\n",
    "# plt.savefig(\"ROC.png\")\n",
    "plt.show()"
   ]
  },
  {
   "cell_type": "markdown",
   "metadata": {},
   "source": [
    "Критерий AUC-ROC устойчив к несбалансированным классам (спойлер: увы, не всё так однозначно) и может быть интерпретирован как вероятность того, что случайно выбранный positive объект будет проранжирован классификатором выше (будет иметь более высокую вероятность быть positive), чем случайно выбранный negative объект.\n",
    "\n",
    "\n",
    "Рассмотрим следующую задачу: нам необходимо выбрать 100 релевантных документов из 1 миллиона документов. Мы намашинлернили два алгоритма:\n",
    "\n",
    "* **Алгоритм 1** возвращает 100 документов, 90 из которых релевантны. Таким образом,\n",
    "\n",
    "$$TPR = \\frac{TP}{TP + FN} = \\frac{90}{90 + 10} = 0.9$$\n",
    "\n",
    "$$FPR = \\frac{FP}{FP + TN} = \\frac{10}{10 + 999890} = 0.00001$$\n",
    "\n",
    "* **Алгоритм 2** возвращает 2000 документов, 90 из которых релевантны. Таким образом\n",
    "\n",
    "$$TPR = \\frac{TP}{TP + FN} = \\frac{90}{90 + 10} = 0.9$$\n",
    "\n",
    "$$FPR = \\frac{FP}{FP + TN} = \\frac{1910}{1910 + 997990} = 0.00191$$\n",
    "\n",
    "Скорее всего, мы бы выбрали первый алгоритм, который выдает очень мало False Positive на фоне своего конкурента. Но разница в False Positive Rate между этими двумя алгоритмами крайне мала — всего 0.0019. Это является следствием того, что AUC-ROC измеряет долю False Positive относительно True Negative и в задачах, где нам не так важен второй (больший) класс, может давать не совсем адекватную картину при сравнении алгоритмов.\n",
    "\n",
    "\n",
    "Для того чтобы поправить положение, вернемся к полноте и точности :\n",
    "\n",
    "* **Алгоритм 1**\n",
    "\n",
    "$$\\ precision = \\frac{TP}{TP + FP} = 90/(90 + 10) = 0.9$$\n",
    "\n",
    "$$\\ recall = \\frac{TP}{TP + FN} = 90/(90 + 10) = 0.9$$\n",
    "\n",
    "* **Алгоритм 2**\n",
    "\n",
    "$$\\ precision = \\frac{TP}{TP + FP} = \\frac{90}{90 + 1910} = 0.045$$\n",
    "\n",
    "$$\\ recall = \\frac{TP}{TP + FN} = \\frac{90}{90 + 10} = 0.9$$\n",
    "\n",
    "Здесь уже заметна существенная разница между двумя алгоритмами — 0.855 в точности!\n",
    "\n",
    "\n",
    "Precision и recall также используют для построения кривой и, аналогично AUC-ROC, находят площадь под ней.\n",
    "\n",
    "<img src=\"../images/8873569147c24b49a2b7fa9ae883f20f.png\">\n",
    "\n",
    "Здесь можно отметить, что на маленьких датасетах площадь под PR-кривой может быть чересчур оптимистична, потому как вычисляется по методу трапеций, но обычно в таких задачах данных достаточно. За подробностями о взаимоотношениях AUC-ROC и AUC-PR можно обратиться __[сюда](http://http://pages.cs.wisc.edu/~jdavis/davisgoadrichcamera2.pdf)__.\n",
    "\n",
    "# Logistic Loss\n",
    "\n",
    "Особняком стоит логистическая функция потерь, определяемая как:\n",
    "\n",
    "$$\\large logloss = - \\frac{1}{l} \\cdot \\sum_{i=1}^l (y_i \\cdot log(\\hat y_i) + (1 - y_i) \\cdot log(1 - \\hat y_i))$$\n",
    "\n",
    "здесь $\\hat y$ — это ответ алгоритма на $i$-ом объекте, $y$ — истинная метка класса на $i$-ом объекте, а $l$ размер выборки.\n",
    "\n",
    "Подробно про математическую интерпретацию логистической функции потерь уже написано в рамках __[поста](https://habr.com/ru/company/ods/blog/323890/#princip-maksimalnogo-pravdopodobiya-i-logisticheskaya-regressiya)__ про линейные модели.\n",
    "Данная метрика нечасто выступает в бизнес-требованиях, но часто — в задачах на kaggle.\n",
    "Интуитивно можно представить минимизацию logloss как задачу максимизации accuracy путем штрафа за неверные предсказания. Однако необходимо отметить, что logloss крайне сильно штрафует за уверенность классификатора в неверном ответе.\n",
    "\n",
    "Рассмотрим пример:"
   ]
  },
  {
   "cell_type": "code",
   "execution_count": 19,
   "metadata": {
    "ExecuteTime": {
     "end_time": "2019-04-11T07:57:59.202278Z",
     "start_time": "2019-04-11T07:57:59.195314Z"
    }
   },
   "outputs": [
    {
     "name": "stdout",
     "output_type": "stream",
     "text": [
      "Logloss при неуверенной классификации 0.693147\n",
      "Logloss при уверенной классификации и верном ответе 0.105361\n",
      "Logloss при уверенной классификации и НЕверном ответе 2.302585\n"
     ]
    }
   ],
   "source": [
    "def logloss_crutch(y_true, y_pred, eps=1e-15):\n",
    "    return - (y_true * np.log(y_pred) + (1 - y_true) * np.log(1 - y_pred))\n",
    "\n",
    "print('Logloss при неуверенной классификации %f' % logloss_crutch(1, 0.5))\n",
    "print('Logloss при уверенной классификации и верном ответе %f' % logloss_crutch(1, 0.9))\n",
    "print('Logloss при уверенной классификации и НЕверном ответе %f' % logloss_crutch(1, 0.1))"
   ]
  },
  {
   "cell_type": "markdown",
   "metadata": {},
   "source": [
    "Отметим, как *драматически* выросла logloss при неверном ответе и уверенной классификации!\n",
    "Следовательно, ошибка на одном объекте может дать существенное ухудшение общей ошибки на выборке. Такие объекты часто бывают выбросами, которые нужно не забывать фильтровать или рассматривать отдельно.\n",
    "\n",
    "Всё становится на свои места, если нарисовать график logloss:\n",
    "\n",
    "<img src=\"../images/0fbe4eda3cb3469c8d02c837b53e564e.png\">\n",
    "\n",
    "Видно, что чем ближе к нулю ответ алгоритма при ground truth = 1, тем выше значение ошибки и круче растёт кривая.\n",
    "\n",
    "# Подытожим:\n",
    "\n",
    "* В случае многоклассовой классификации нужно внимательно следить за метриками каждого из классов и следовать логике решения задачи, а не оптимизации метрики\n",
    "* В случае неравных классов нужно подбирать баланс классов для обучения и метрику, которая будет корректно отражать качество классификации\n",
    "* Выбор метрики нужно делать с фокусом на предметную область, предварительно обрабатывая данные и, возможно, сегментируя (как в случае с делением на богатых и бедных клиентов)\n"
   ]
  }
 ],
 "metadata": {
  "kernelspec": {
   "display_name": "Python 3",
   "language": "python",
   "name": "python3"
  },
  "language_info": {
   "codemirror_mode": {
    "name": "ipython",
    "version": 3
   },
   "file_extension": ".py",
   "mimetype": "text/x-python",
   "name": "python",
   "nbconvert_exporter": "python",
   "pygments_lexer": "ipython3",
   "version": "3.6.6"
  }
 },
 "nbformat": 4,
 "nbformat_minor": 2
}
